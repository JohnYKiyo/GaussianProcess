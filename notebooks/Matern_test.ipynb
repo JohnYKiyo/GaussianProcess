{
 "cells": [
  {
   "cell_type": "code",
   "execution_count": 277,
   "metadata": {},
   "outputs": [],
   "source": [
    "import sys\n",
    "sys.path.append('../')\n",
    "import gp\n",
    "\n",
    "from jax.config import config; config.update(\"jax_enable_x64\", True)\n",
    "import jax\n",
    "import jax.numpy as np\n",
    "import jax.scipy as scp\n",
    "from jax import jit\n",
    "from scipy.special import gamma, kv\n",
    "\n",
    "from gp.metric import euclid_distance\n",
    "from gp.utils import pairwise\n",
    "\n",
    "@jit\n",
    "def K_0p5(x1,x2,l,nu):\n",
    "    dists = pairwise(euclid_distance, square=False)\n",
    "    return np.exp(-dists(x1,x2)/l)\n",
    "\n",
    "@jit\n",
    "def K_1p5(x1,x2,l,nu):\n",
    "    dists = pairwise(euclid_distance, square=False)\n",
    "    K = dists(x1,x2)/l * np.sqrt(3)\n",
    "    return (1. + K) * np.exp(-K)\n",
    "\n",
    "@jit\n",
    "def K_2p5(x1,x2,l,nu):\n",
    "    dists = pairwise(euclid_distance, square=False)\n",
    "    K = dists(x1,x2)/l * np.sqrt(5)\n",
    "    return (1. + K + K ** 2 / 3.0) * np.exp(-K)\n",
    "\n",
    "@jit\n",
    "def K_inf(x1,x2,l,nu):\n",
    "    dists = pairwise(euclid_distance, square=True)\n",
    "    return np.exp(-dists(x1,x2) / 2.0 /l**2)\n",
    "\n",
    "def K_other(x1,x2,l,nu):\n",
    "    dists = pairwise(euclid_distance, square=False)\n",
    "    dists_matrix = dists(x1,x2)/l\n",
    "    dists_matrix = np.where(dists_matrix==0, np.finfo(float).eps, dists_matrix)\n",
    "    tmp = (np.sqrt(2 * nu) * dists_matrix)\n",
    "    val = (2 ** (1. - nu)) / np.exp(scp.special.gammaln(nu))\n",
    "    return val * tmp**nu * kv(nu,tmp)\n",
    "\n",
    "def matern(x,y, l=1., nu=1.5):\n",
    "    if nu == 0.5:\n",
    "        return K_0p5(x,y,l,nu)\n",
    "    elif nu == 1.5:\n",
    "        return K_1p5(x,y,l,nu)\n",
    "    \n",
    "    elif nu == 2.5:\n",
    "        return K_2p5(x,y,l,nu)\n",
    "    \n",
    "    elif nu == np.inf:\n",
    "        return K_inf(x,y,l,nu)\n",
    "    else:\n",
    "        return K_other(x,y,l,nu)"
   ]
  },
  {
   "cell_type": "code",
   "execution_count": 278,
   "metadata": {},
   "outputs": [],
   "source": [
    "from sklearn.gaussian_process import kernels"
   ]
  },
  {
   "cell_type": "code",
   "execution_count": 279,
   "metadata": {},
   "outputs": [],
   "source": [
    "a = np.arange(0,15,1).reshape(-1,3)\n",
    "b = np.arange(0,15,0.5).reshape(-1,3)\n",
    "nu = 5.5\n",
    "l=3.\n",
    "KM = kernels.Matern(length_scale=l,nu=nu)"
   ]
  },
  {
   "cell_type": "code",
   "execution_count": 280,
   "metadata": {},
   "outputs": [
    {
     "data": {
      "text/plain": [
       "DeviceArray([[1., 1., 1., 1., 1., 1., 1., 1., 1., 1.],\n",
       "             [1., 1., 1., 1., 1., 1., 1., 1., 1., 1.],\n",
       "             [1., 1., 1., 1., 1., 1., 1., 1., 1., 1.],\n",
       "             [1., 1., 1., 1., 1., 1., 1., 1., 1., 1.],\n",
       "             [1., 1., 1., 1., 1., 1., 1., 1., 1., 1.]], dtype=float64)"
      ]
     },
     "execution_count": 280,
     "metadata": {},
     "output_type": "execute_result"
    }
   ],
   "source": [
    "KM(a,b)/matern(a,b,nu=nu,l=l)"
   ]
  },
  {
   "cell_type": "code",
   "execution_count": 281,
   "metadata": {},
   "outputs": [
    {
     "name": "stdout",
     "output_type": "stream",
     "text": [
      "600 µs ± 28.2 µs per loop (mean ± std. dev. of 7 runs, 1000 loops each)\n"
     ]
    }
   ],
   "source": [
    "%%timeit\n",
    "KM(a,b)"
   ]
  },
  {
   "cell_type": "code",
   "execution_count": 282,
   "metadata": {},
   "outputs": [
    {
     "name": "stdout",
     "output_type": "stream",
     "text": [
      "38.9 ms ± 224 µs per loop (mean ± std. dev. of 7 runs, 10 loops each)\n"
     ]
    }
   ],
   "source": [
    "%%timeit\n",
    "matern(a,b,nu=nu)"
   ]
  }
 ],
 "metadata": {
  "kernelspec": {
   "display_name": "Python 3",
   "language": "python",
   "name": "python3"
  },
  "language_info": {
   "codemirror_mode": {
    "name": "ipython",
    "version": 3
   },
   "file_extension": ".py",
   "mimetype": "text/x-python",
   "name": "python",
   "nbconvert_exporter": "python",
   "pygments_lexer": "ipython3",
   "version": "3.7.0"
  }
 },
 "nbformat": 4,
 "nbformat_minor": 4
}
